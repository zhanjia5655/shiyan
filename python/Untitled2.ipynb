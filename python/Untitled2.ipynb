{
 "cells": [
  {
   "cell_type": "code",
   "execution_count": 5,
   "metadata": {},
   "outputs": [
    {
     "name": "stdout",
     "output_type": "stream",
     "text": [
      "Please input your name:13\n"
     ]
    }
   ],
   "source": []
  },
  {
   "cell_type": "code",
   "execution_count": null,
   "metadata": {},
   "outputs": [],
   "source": []
  },
  {
   "cell_type": "code",
   "execution_count": null,
   "metadata": {},
   "outputs": [],
   "source": [
    "11 \n",
    "12  info1 = '''\n",
    "14  Name:%s\n",
    "15  Age:%d\n",
    "16  Job：%s\n",
    "17  Salary：%s\n",
    "18  ''' %(name,name,age,job,salary)     #%s检测数据类型为字符串，%d检测数据类型为整数,%f检测数据类型为浮点数 强制\n",
    "19  print(info1)"
   ]
  },
  {
   "cell_type": "code",
   "execution_count": null,
   "metadata": {},
   "outputs": [],
   "source": [
    "name = input(\"Please input your name:\")\n",
    "job = input(\"Please input your job:\")\n",
    "salary = input(\"Please input your salary:\")"
   ]
  }
 ],
 "metadata": {
  "kernelspec": {
   "display_name": "Python 3",
   "language": "python",
   "name": "python3"
  }
 },
 "nbformat": 4,
 "nbformat_minor": 2
}
