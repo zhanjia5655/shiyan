{
 "cells": [
  {
   "cell_type": "code",
   "execution_count": 1,
   "metadata": {},
   "outputs": [
    {
     "data": {
      "text/plain": [
       "[1, 4, 12]"
      ]
     },
     "execution_count": 1,
     "metadata": {},
     "output_type": "execute_result"
    }
   ],
   "source": [
    "a=[1,4,12]\n",
    "a"
   ]
  },
  {
   "cell_type": "code",
   "execution_count": 2,
   "metadata": {},
   "outputs": [
    {
     "data": {
      "text/plain": [
       "[0, 1, 2, 3, 4, 5, 6, 7, 8, 9]"
      ]
     },
     "execution_count": 2,
     "metadata": {},
     "output_type": "execute_result"
    }
   ],
   "source": [
    "a=list(range(10))\n"
   ]
  },
  {
   "cell_type": "code",
   "execution_count": 1,
   "metadata": {},
   "outputs": [
    {
     "name": "stdout",
     "output_type": "stream",
     "text": [
      "[2, 7, 8, 12, 15, 16, 23, 42, 45, 56]\n"
     ]
    }
   ],
   "source": [
    "lst=[16,45,8,7,23,56,12,42,15,2]\n",
    "for j in range(0,len(lst)):\n",
    "    #j控制循环次数，i  每次取两个数比较\n",
    "    for i in range(len(lst)-j-1):\n",
    "        if lst[i]>lst[i+1]:\n",
    "            lst[i],lst[i+1]=lst[i+1],lst[i]\n",
    "           # temp=lst[i]\n",
    "            #lst[i]=lst[i+1]\n",
    "            #lst[i+1]=temp\n",
    "print(lst)\n"
   ]
  },
  {
   "cell_type": "code",
   "execution_count": 10,
   "metadata": {},
   "outputs": [],
   "source": [
    "i=[0,2,1]\n"
   ]
  },
  {
   "cell_type": "code",
   "execution_count": 32,
   "metadata": {},
   "outputs": [
    {
     "name": "stdout",
     "output_type": "stream",
     "text": [
      "[[1], [1, 1], [1, 2, 1], [1, 3, 3, 1], [1, 4, 6, 4, 1], [1, 5, 10, 10, 5, 1]]\n"
     ]
    }
   ],
   "source": [
    "lst=[1]\n",
    "lst1=[]\n",
    "for i in range(6):\n",
    "    a=lst*(i+1)\n",
    "    for j in range(1,i):\n",
    "        a[j]=lst1[i-1][j-1]+lst1[i-1][j]\n",
    "    \n",
    "    lst1.append(a)\n",
    "print(lst1)"
   ]
  },
  {
   "cell_type": "code",
   "execution_count": 28,
   "metadata": {},
   "outputs": [
    {
     "name": "stdout",
     "output_type": "stream",
     "text": [
      "[0, 0, 0, 0, 0]\n"
     ]
    }
   ],
   "source": [
    "lst=[0]\n",
    "a=lst*5\n",
    "print(a)"
   ]
  },
  {
   "cell_type": "code",
   "execution_count": 36,
   "metadata": {},
   "outputs": [
    {
     "name": "stdout",
     "output_type": "stream",
     "text": [
      "[[1], [1, 1], [1, 2, 1], [1, 3, 3, 1], [1, 4, 6, 4, 1], [1, 5, 10, 10, 5, 1]]\n"
     ]
    }
   ],
   "source": [
    "lst=[1]\n",
    "lst1=[]\n",
    "for i in range(6):\n",
    "    a=lst*(i+1)\n",
    "    for j in range(1,i//2+1):\n",
    "        a[j]=lst1[i-1][j-1]+lst1[i-1][j]\n",
    "        if i!=2j:\n",
    "            a[-j-1]=a[j]      \n",
    "    lst1.append(a)\n",
    "print(lst1)"
   ]
  },
  {
   "cell_type": "code",
   "execution_count": 6,
   "metadata": {},
   "outputs": [
    {
     "data": {
      "text/plain": [
       "'eb'"
      ]
     },
     "execution_count": 6,
     "metadata": {},
     "output_type": "execute_result"
    }
   ],
   "source": [
    "a=[1,2,3,4,5,6,7,8,9]\n",
    "c='sebgese'[1:3]\n",
    "b=a[1:3]\n",
    "c"
   ]
  },
  {
   "cell_type": "code",
   "execution_count": 12,
   "metadata": {},
   "outputs": [
    {
     "data": {
      "text/plain": [
       "b'ww.b'"
      ]
     },
     "execution_count": 12,
     "metadata": {},
     "output_type": "execute_result"
    }
   ],
   "source": [
    "c=b'www.baidu.com'[1:5]\n",
    "c"
   ]
  },
  {
   "cell_type": "code",
   "execution_count": 17,
   "metadata": {},
   "outputs": [
    {
     "name": "stdout",
     "output_type": "stream",
     "text": [
      "<built-in method decode of bytes object at 0x0466DAE8>\n"
     ]
    }
   ],
   "source": [
    "a=b'12'.decode\n",
    "print(a)"
   ]
  },
  {
   "cell_type": "code",
   "execution_count": 1,
   "metadata": {},
   "outputs": [
    {
     "name": "stdout",
     "output_type": "stream",
     "text": [
      "0\n",
      "1\n",
      "2\n",
      "3\n",
      "4\n",
      "5\n",
      "6\n",
      "7\n",
      "8\n",
      "9\n"
     ]
    }
   ],
   "source": [
    "for i in range(10):\n",
    "    print(i)"
   ]
  },
  {
   "cell_type": "code",
   "execution_count": 28,
   "metadata": {},
   "outputs": [
    {
     "name": "stdout",
     "output_type": "stream",
     "text": [
      "[2, 5, 2, 0, 6, 9, 8, 3, 8, 4, 5, 5, 1, 9, 8]\n",
      "[2, 5, 9, 8]\n",
      "[0, 6, 3, 4, 1]\n"
     ]
    }
   ],
   "source": [
    "import random\n",
    "ls=[]\n",
    "for _ in range(15):\n",
    "    a=random.randint(0,9)\n",
    "    ls.append(a)\n",
    "print(ls)\n",
    "lsdan=[]\n",
    "lsshuang=[]\n",
    "for i in ls:\n",
    "    if ls.count(i)>1:\n",
    "        if i not in lsshuang:\n",
    "            lsshuang.append(i)\n",
    "    elif ls.count(i)>0:\n",
    "        lsdan.append(i)\n",
    "print(lsshuang)\n",
    "print(lsdan)"
   ]
  },
  {
   "cell_type": "code",
   "execution_count": 69,
   "metadata": {},
   "outputs": [
    {
     "name": "stdout",
     "output_type": "stream",
     "text": [
      "[13, 0, 0, 12, 4, 6, 3, 15, 7, 6, 5, 15, 11, 14, 9, 13, 5, 14, 11, 7, 15, 7, 11, 13, 2, 10, 11, 5, 0, 2]\n",
      "[3, 0, 2, 1, 1, 3, 2, 3, 0, 1, 1, 4, 1, 3, 2, 3]\n",
      "16\n",
      "数字0出现3次\n",
      "数字1出现0次\n",
      "数字2出现2次\n",
      "数字3出现1次\n",
      "数字4出现1次\n",
      "数字5出现3次\n",
      "数字6出现2次\n",
      "数字7出现3次\n",
      "数字8出现0次\n",
      "数字9出现1次\n",
      "数字10出现1次\n",
      "数字11出现4次\n",
      "数字12出现1次\n",
      "数字13出现3次\n",
      "数字14出现2次\n",
      "数字15出现3次\n",
      "[3, 0, 2, 1, 1, 3, 2, 3, 0, 1, 1, 4, 1, 3, 2, 3]\n"
     ]
    }
   ],
   "source": [
    "import random\n",
    "ls=[]\n",
    "for _ in range(30):\n",
    "    a=random.randint(0,15)\n",
    "    ls.append(a)\n",
    "print(ls)\n",
    "lsnew=[0]*16\n",
    "for i in ls:\n",
    "    lsnew[i]+=1\n",
    "print(lsnew)\n",
    "print(len(lsnew))\n",
    "for i in range(len(lsnew)):\n",
    "    print('数字{0}出现{1}次'.format(i,lsnew[i]))"
   ]
  },
  {
   "cell_type": "code",
   "execution_count": 96,
   "metadata": {},
   "outputs": [
    {
     "name": "stdout",
     "output_type": "stream",
     "text": [
      "输入行数5\n",
      "输入列数2\n",
      "[[1], [1, 1], [1, 2, 1], [1, 3, 3, 1], [1, 4, 6, 4, 1]]\n",
      "第4行第2个值是6\n"
     ]
    }
   ],
   "source": [
    "k=int(input(\"输入行数\"))\n",
    "w=int(input(\"输入列数\"))\n",
    "if w > k:\n",
    "    print(\"请重新输入\")\n",
    "ls=[]\n",
    "for i in range(k):\n",
    "    ls1=[1]\n",
    "    ls.append(ls1)\n",
    "    if i == 0:\n",
    "        continue\n",
    "    for j in range(1,i):\n",
    "        ls1.append(ls[i-1][j-1]+ls[i-1][j])\n",
    "    ls1.append(1)  \n",
    "print(ls)\n",
    "print('第{0}行第{1}个值是{2}'.format(k-1,w,ls[k-1][w]))"
   ]
  },
  {
   "cell_type": "code",
   "execution_count": 100,
   "metadata": {},
   "outputs": [
    {
     "name": "stdout",
     "output_type": "stream",
     "text": [
      "12\n"
     ]
    }
   ],
   "source": [
    "lst=[10,2,8,6,5,4,3,6,7,9,6,8]\n",
    "a=len(lst)\n",
    "print(a)"
   ]
  },
  {
   "cell_type": "code",
   "execution_count": 4,
   "metadata": {},
   "outputs": [
    {
     "name": "stdout",
     "output_type": "stream",
     "text": [
      "{'a': [0, 1, 2, 3, 4], 'b': [0], 'c': [0, 1, 2, 3], 'd': [0, 1, 2, 3], 'e': [0, 1, 2, 3, 4], 'f': [0]}\n"
     ]
    }
   ],
   "source": [
    "import random\n",
    "d1={}\n",
    "for k in 'abcdef':\n",
    "    for i in range(random.randint(1,5)):\n",
    "        if k not in d1.keys():\n",
    "            d1[k]=[]\n",
    "        d1[k].append(i)\n",
    "print(d1)"
   ]
  },
  {
   "cell_type": "code",
   "execution_count": 5,
   "metadata": {
    "scrolled": true
   },
   "outputs": [
    {
     "name": "stdout",
     "output_type": "stream",
     "text": [
      "{'a': [0], 'b': [0, 1, 2, 3], 'c': [0], 'd': [0, 1, 2, 3, 4], 'e': [0, 1], 'f': [0, 1, 2]}\n"
     ]
    }
   ],
   "source": [
    "import random\n",
    "d1={}\n",
    "for k in 'abcdef':\n",
    "    for i in range(random.randint(1,5)):\n",
    "        if k not in d1.keys():\n",
    "            d1[k]=[]\n",
    "    d1[k].append(i)\n",
    "print(d1)"
   ]
  },
  {
   "cell_type": "code",
   "execution_count": 7,
   "metadata": {},
   "outputs": [
    {
     "name": "stdout",
     "output_type": "stream",
     "text": [
      "4\n"
     ]
    }
   ],
   "source": [
    "import random\n",
    "a=random.randint(1,5)\n",
    "print(a)"
   ]
  },
  {
   "cell_type": "code",
   "execution_count": 8,
   "metadata": {},
   "outputs": [
    {
     "name": "stdout",
     "output_type": "stream",
     "text": [
      "defaultdict(<class 'list'>, {'a': [0, 1, 2, 3], 'b': [0, 1, 2], 'c': [0, 1, 2, 3, 4], 'e': [0, 1, 2, 3], 'd': [0, 1, 2], 'f': [0]})\n"
     ]
    }
   ],
   "source": [
    "import random\n",
    "from collections import defaultdict\n",
    "d2=defaultdict(list)\n",
    "for k in 'abcedf':\n",
    "    for i in range(random.randint(1,5)):\n",
    "        d2[k].append(i)\n",
    "print(d2)"
   ]
  },
  {
   "cell_type": "code",
   "execution_count": 9,
   "metadata": {},
   "outputs": [
    {
     "name": "stdout",
     "output_type": "stream",
     "text": [
      "defaultdict(<class 'list'>, {'a': [0, 1, 2, 3], 'b': [0, 1], 'c': [0, 1, 2, 3, 4], 'e': [0, 1], 'd': [0, 1, 2, 3], 'f': [0, 1, 2, 3, 4]})\n"
     ]
    }
   ],
   "source": [
    "import random\n",
    "from collections import defaultdict\n",
    "d2=defaultdict(list)\n",
    "for k in 'abcedf':\n",
    "    for i in range(random.randint(1,5)):\n",
    "        d2[k].append(i)\n",
    "print(d2)"
   ]
  },
  {
   "cell_type": "code",
   "execution_count": null,
   "metadata": {},
   "outputs": [],
   "source": [
    "num=input(\"输入一个数字\")\n",
    "numa={}\n",
    "for i in num:\n",
    "    if i not in numa:\n",
    "        numa[i]=[]\n",
    "    muna[i]=numa+1\n",
    "print(muna)"
   ]
  },
  {
   "cell_type": "code",
   "execution_count": null,
   "metadata": {},
   "outputs": [],
   "source": [
    "num=input(\"输入一个数字\")\n",
    "numa={}\n",
    "for i in num:\n",
    "    if i not in numa:\n",
    "        numa[i]=[0]\n",
    "    numa[i][0]+=1\n",
    "print(num)\n",
    "print(numa)"
   ]
  },
  {
   "cell_type": "code",
   "execution_count": 3,
   "metadata": {},
   "outputs": [
    {
     "ename": "SyntaxError",
     "evalue": "invalid syntax (<ipython-input-3-11442814e24e>, line 4)",
     "output_type": "error",
     "traceback": [
      "\u001b[1;36m  File \u001b[1;32m\"<ipython-input-3-11442814e24e>\"\u001b[1;36m, line \u001b[1;32m4\u001b[0m\n\u001b[1;33m    a=randint(-1000,1000))\u001b[0m\n\u001b[1;37m                         ^\u001b[0m\n\u001b[1;31mSyntaxError\u001b[0m\u001b[1;31m:\u001b[0m invalid syntax\n"
     ]
    }
   ],
   "source": [
    "import random\n",
    "lis=[]\n",
    "for i in range(100):\n",
    "    a=randint(-1000,1000))\n",
    "    lis.append(a)\n",
    "print(lis)"
   ]
  },
  {
   "cell_type": "code",
   "execution_count": 12,
   "metadata": {},
   "outputs": [
    {
     "data": {
      "text/plain": [
       "4"
      ]
     },
     "execution_count": 12,
     "metadata": {},
     "output_type": "execute_result"
    }
   ],
   "source": [
    "import random\n",
    "b=random.randint(1,10)\n",
    "a=random.choice(range(10))\n",
    "a"
   ]
  },
  {
   "cell_type": "code",
   "execution_count": 14,
   "metadata": {},
   "outputs": [
    {
     "name": "stdout",
     "output_type": "stream",
     "text": [
      "b'\\xe6\\x9d\\x8e\\xe4\\xbc\\x9f' 李伟 b'\\xc0\\xee\\xce\\xb0' 李伟\n"
     ]
    }
   ],
   "source": [
    "name = \"李伟\"                     #此时name为Unicode编码\n",
    "name1 = name.encode(\"utf-8\")      #Unicode转为UTF-8\n",
    "name2 = name1.decode(\"utf-8\")     #UTF-8转为Unicode\n",
    "\n",
    "name3 = name.encode(\"gbk\")       #Unicode转为GBK\n",
    "name4 = name3.decode(\"gbk\")      #GBK转为Unicode\n",
    "print(name1,name2,name3,name4)"
   ]
  },
  {
   "cell_type": "code",
   "execution_count": 15,
   "metadata": {},
   "outputs": [
    {
     "name": "stdout",
     "output_type": "stream",
     "text": [
      "b'\\xe9\\x87\\x8c\\xe7\\xba\\xa6\\xe5\\xa5\\xa5\\xe8\\xbf\\x90'\n",
      "里约奥运\n"
     ]
    }
   ],
   "source": [
    "#!/usr/bin/env python\n",
    "# -*- coding:utf-8 -*-\n",
    "#-Author-solo\n",
    "msg = \"里约奥运\"\n",
    " \n",
    "print(msg.encode(\"utf-8\"))                      #如果不指定编码格式，默认为utf-8\n",
    "#b'\\xe9\\x87\\x8c\\xe7\\xba\\xa6\\xe5\\xa5\\xa5\\xe8\\xbf\\x90'\n",
    "print(b'\\xe9\\x87\\x8c\\xe7\\xba\\xa6\\xe5\\xa5\\xa5\\xe8\\xbf\\x90'.decode(\"utf-8\"))\n",
    "#里约奥运"
   ]
  },
  {
   "cell_type": "code",
   "execution_count": 32,
   "metadata": {},
   "outputs": [
    {
     "name": "stdout",
     "output_type": "stream",
     "text": [
      "98\n"
     ]
    }
   ],
   "source": [
    "#b=b'98.decode(\"utf-8\")\n",
    "print(b'98'.decode())"
   ]
  },
  {
   "cell_type": "code",
   "execution_count": 33,
   "metadata": {},
   "outputs": [
    {
     "name": "stdout",
     "output_type": "stream",
     "text": [
      "b\n"
     ]
    }
   ],
   "source": [
    "print(chr(98))"
   ]
  },
  {
   "cell_type": "code",
   "execution_count": 37,
   "metadata": {},
   "outputs": [
    {
     "name": "stdout",
     "output_type": "stream",
     "text": [
      "line1\n",
      "1 <class 'generator'>\n",
      "line1\n"
     ]
    },
    {
     "data": {
      "text/plain": [
       "1"
      ]
     },
     "execution_count": 37,
     "metadata": {},
     "output_type": "execute_result"
    }
   ],
   "source": [
    "def gen():\n",
    "    print(\"line1\")\n",
    "    yield 1\n",
    "    print(\"line2\")\n",
    "    yield 2\n",
    "    print(\"line3\")\n",
    "    return 3\n",
    "print(next(gen()),type(gen())) #gen（）返回一个生成器对象 类似 （i for i in range(5)）\n",
    "next(gen())"
   ]
  },
  {
   "cell_type": "code",
   "execution_count": 43,
   "metadata": {},
   "outputs": [
    {
     "name": "stdout",
     "output_type": "stream",
     "text": [
      "<class 'generator'>\n"
     ]
    }
   ],
   "source": [
    "print(type((i for i in range(5))))"
   ]
  },
  {
   "cell_type": "code",
   "execution_count": 50,
   "metadata": {},
   "outputs": [
    {
     "name": "stdout",
     "output_type": "stream",
     "text": [
      "[1, 2, 3, 4, 5, 6] [1, 2, 3, 4, 5, 6] [1, 2, 3, 4, 5]\n",
      "[1, 2, 3, 4, 5, 6] [1, 2, 3, 4, 5]\n"
     ]
    }
   ],
   "source": [
    "a=[1,2,3,4,5]\n",
    "b=a    \n",
    "c=a[:]#影子拷贝,重新生成新的\n",
    "a.append(6)\n",
    "print(a,b,c)\n",
    "del a\n",
    "print(b,c)"
   ]
  },
  {
   "cell_type": "code",
   "execution_count": 51,
   "metadata": {},
   "outputs": [
    {
     "name": "stdout",
     "output_type": "stream",
     "text": [
      "{1: 2, 2: 3, 3: 4, 5: 6} {1: 2, 2: 3, 3: 4, 5: 6}\n"
     ]
    }
   ],
   "source": [
    "a={1:2,2:3,3:4}\n",
    "b=a\n",
    "a[5]=6\n",
    "print(a,b)"
   ]
  },
  {
   "cell_type": "code",
   "execution_count": 54,
   "metadata": {},
   "outputs": [
    {
     "data": {
      "text/plain": [
       "11"
      ]
     },
     "execution_count": 54,
     "metadata": {},
     "output_type": "execute_result"
    }
   ],
   "source": [
    "def foo(x):\n",
    "    def foo1(y):\n",
    "        return x+y\n",
    "    return foo1\n",
    "foo(5)(6)"
   ]
  },
  {
   "cell_type": "code",
   "execution_count": 61,
   "metadata": {},
   "outputs": [
    {
     "name": "stdout",
     "output_type": "stream",
     "text": [
      "[1, 2, 2, 3, 4, 5, 5, 6]\n",
      "[6, 5, 5, 4, 3, 2, 2, 1]\n"
     ]
    }
   ],
   "source": [
    "def sort(iterable, reverse=False, key=lambda x,y:x<y):\n",
    "    ret = []\n",
    "    for x in iterable:\n",
    "        for i,y in enumerate(ret):\n",
    "            flag = key(x,y) if not reverse else not key(x,y)\n",
    "            if flag:\n",
    "                ret.insert(i, x)\n",
    "                break\n",
    "        else:\n",
    "            ret.append(x)\n",
    "    return ret\n",
    "print(sort([1,2,5,4,2,3,5,6]))\n",
    "print(sort([1,2,5,4,2,3,5,6],reverse=True))"
   ]
  },
  {
   "cell_type": "code",
   "execution_count": 60,
   "metadata": {},
   "outputs": [
    {
     "data": {
      "text/plain": [
       "__main__.int"
      ]
     },
     "execution_count": 60,
     "metadata": {},
     "output_type": "execute_result"
    }
   ],
   "source": [
    "class int(object):\n",
    "    \"\"\"\n",
    "    int(x=0) -> int or long\n",
    "    int(x, base=10) -> int or long\n",
    "    \n",
    "    Convert a number or string to an integer, or return 0 if no arguments\n",
    "    are given.  If x is floating point, the conversion truncates towards zero.\n",
    "    If x is outside the integer range, the function returns a long instead.\n",
    "    \n",
    "    If x is not a number or if base is given, then x must be a string or\n",
    "    Unicode object representing an integer literal in the given base.  The\n",
    "    literal can be preceded by '+' or '-' and be surrounded by whitespace.\n",
    "    The base defaults to 10.  Valid bases are 0 and 2-36.  Base 0 means to\n",
    "    interpret the base from the string as an integer literal.\n",
    "    >>> int('0b100', base=0)\n",
    "    \"\"\"\n",
    "    def bit_length(self): \n",
    "        \"\"\" 返回表示该数字的时占用的最少位数 \"\"\"\n",
    "        \"\"\"\n",
    "        int.bit_length() -> int\n",
    "        \n",
    "        Number of bits necessary to represent self in binary.\n",
    "        >>> bin(37)\n",
    "        '0b100101'\n",
    "        >>> (37).bit_length()\n",
    "        \"\"\"\n",
    "        return 0\n",
    "\n",
    "    def conjugate(self, *args, **kwargs): # real signature unknown\n",
    "        \"\"\" 返回该复数的共轭复数 \"\"\"\n",
    "        \"\"\" Returns self, the complex conjugate of any int. \"\"\"\n",
    "        pass\n",
    "\n",
    "    def __abs__(self):\n",
    "        \"\"\" 返回绝对值 \"\"\"\n",
    "        \"\"\" x.__abs__() <==> abs(x) \"\"\"\n",
    "        pass\n",
    "\n",
    "    def __add__(self, y):\n",
    "        \"\"\" x.__add__(y) <==> x+y \"\"\"\n",
    "        pass\n",
    "\n",
    "    def __and__(self, y):\n",
    "        \"\"\" x.__and__(y) <==> x&y \"\"\"\n",
    "        pass\n",
    "\n",
    "    def __cmp__(self, y): \n",
    "        \"\"\" 比较两个数大小 \"\"\"\n",
    "        \"\"\" x.__cmp__(y) <==> cmp(x,y) \"\"\"\n",
    "        pass\n",
    "\n",
    "    def __coerce__(self, y):\n",
    "        \"\"\" 强制生成一个元组 \"\"\" \n",
    "        \"\"\" x.__coerce__(y) <==> coerce(x, y) \"\"\"\n",
    "        pass\n",
    "\n",
    "    def __divmod__(self, y): \n",
    "        \"\"\" 相除，得到商和余数组成的元组 \"\"\" \n",
    "        \"\"\" x.__divmod__(y) <==> divmod(x, y) \"\"\"\n",
    "        pass\n",
    "\n",
    "    def __div__(self, y): \n",
    "        \"\"\" x.__div__(y) <==> x/y \"\"\"\n",
    "        pass\n",
    "\n",
    "    def __float__(self): \n",
    "        \"\"\" 转换为浮点类型 \"\"\" \n",
    "        \"\"\" x.__float__() <==> float(x) \"\"\"\n",
    "        pass\n",
    "\n",
    "    def __floordiv__(self, y): \n",
    "        \"\"\" x.__floordiv__(y) <==> x//y \"\"\"\n",
    "        pass\n",
    "\n",
    "    def __format__(self, *args, **kwargs): # real signature unknown\n",
    "        pass\n",
    "\n",
    "    def __getattribute__(self, name): \n",
    "        \"\"\" x.__getattribute__('name') <==> x.name \"\"\"\n",
    "        pass\n",
    "\n",
    "    def __getnewargs__(self, *args, **kwargs): # real signature unknown\n",
    "        \"\"\" 内部调用 __new__方法或创建对象时传入参数使用 \"\"\" \n",
    "        pass\n",
    "\n",
    "    def __hash__(self): \n",
    "        \"\"\"如果对象object为哈希表类型，返回对象object的哈希值。哈希值为整数。在字典查找中，哈希值用于快速比较字典的键。两个数值如果相等，则哈希值也相等。\"\"\"\n",
    "        \"\"\" x.__hash__() <==> hash(x) \"\"\"\n",
    "        pass\n",
    "\n",
    "    def __hex__(self): \n",
    "        \"\"\" 返回当前数的 十六进制 表示 \"\"\" \n",
    "        \"\"\" x.__hex__() <==> hex(x) \"\"\"\n",
    "        pass\n",
    "\n",
    "    def __index__(self): \n",
    "        \"\"\" 用于切片，数字无意义 \"\"\"\n",
    "        \"\"\" x[y:z] <==> x[y.__index__():z.__index__()] \"\"\"\n",
    "        pass\n",
    "\n",
    "    def __init__(self, x, base=10): # known special case of int.__init__\n",
    "        \"\"\" 构造方法，执行 x = 123 或 x = int(10) 时，自动调用，暂时忽略 \"\"\" \n",
    "        \"\"\"\n",
    "        int(x=0) -> int or long\n",
    "        int(x, base=10) -> int or long\n",
    "        \n",
    "        Convert a number or string to an integer, or return 0 if no arguments\n",
    "        are given.  If x is floating point, the conversion truncates towards zero.\n",
    "        If x is outside the integer range, the function returns a long instead.\n",
    "        \n",
    "        If x is not a number or if base is given, then x must be a string or\n",
    "        Unicode object representing an integer literal in the given base.  The\n",
    "        literal can be preceded by '+' or '-' and be surrounded by whitespace.\n",
    "        The base defaults to 10.  Valid bases are 0 and 2-36.  Base 0 means to\n",
    "        interpret the base from the string as an integer literal.\n",
    "        >>> int('0b100', base=0)\n",
    "        # (copied from class doc)\n",
    "        \"\"\"\n",
    "        pass\n",
    "\n",
    "    def __int__(self): \n",
    "        \"\"\" 转换为整数 \"\"\" \n",
    "        \"\"\" x.__int__() <==> int(x) \"\"\"\n",
    "        pass\n",
    "\n",
    "    def __invert__(self): \n",
    "        \"\"\" x.__invert__() <==> ~x \"\"\"\n",
    "        pass\n",
    "\n",
    "    def __long__(self): \n",
    "        \"\"\" 转换为长整数 \"\"\" \n",
    "        \"\"\" x.__long__() <==> long(x) \"\"\"\n",
    "        pass\n",
    "\n",
    "    def __lshift__(self, y): \n",
    "        \"\"\" x.__lshift__(y) <==> x<<y \"\"\"\n",
    "        pass\n",
    "\n",
    "    def __mod__(self, y): \n",
    "        \"\"\" x.__mod__(y) <==> x%y \"\"\"\n",
    "        pass\n",
    "\n",
    "    def __mul__(self, y): \n",
    "        \"\"\" x.__mul__(y) <==> x*y \"\"\"\n",
    "        pass\n",
    "\n",
    "    def __neg__(self): \n",
    "        \"\"\" x.__neg__() <==> -x \"\"\"\n",
    "        pass\n",
    "\n",
    "    @staticmethod # known case of __new__\n",
    "    def __new__(S, *more): \n",
    "        \"\"\" T.__new__(S, ...) -> a new object with type S, a subtype of T \"\"\"\n",
    "        pass\n",
    "\n",
    "    def __nonzero__(self): \n",
    "        \"\"\" x.__nonzero__() <==> x != 0 \"\"\"\n",
    "        pass\n",
    "\n",
    "    def __oct__(self): \n",
    "        \"\"\" 返回改值的 八进制 表示 \"\"\" \n",
    "        \"\"\" x.__oct__() <==> oct(x) \"\"\"\n",
    "        pass\n",
    "\n",
    "    def __or__(self, y): \n",
    "        \"\"\" x.__or__(y) <==> x|y \"\"\"\n",
    "        pass\n",
    "\n",
    "    def __pos__(self): \n",
    "        \"\"\" x.__pos__() <==> +x \"\"\"\n",
    "        pass\n",
    "\n",
    "    def __pow__(self, y, z=None): \n",
    "        \"\"\" 幂，次方 \"\"\" \n",
    "        \"\"\" x.__pow__(y[, z]) <==> pow(x, y[, z]) \"\"\"\n",
    "        pass\n",
    "\n",
    "    def __radd__(self, y): \n",
    "        \"\"\" x.__radd__(y) <==> y+x \"\"\"\n",
    "        pass\n",
    "\n",
    "    def __rand__(self, y): \n",
    "        \"\"\" x.__rand__(y) <==> y&x \"\"\"\n",
    "        pass\n",
    "\n",
    "    def __rdivmod__(self, y): \n",
    "        \"\"\" x.__rdivmod__(y) <==> divmod(y, x) \"\"\"\n",
    "        pass\n",
    "\n",
    "    def __rdiv__(self, y): \n",
    "        \"\"\" x.__rdiv__(y) <==> y/x \"\"\"\n",
    "        pass\n",
    "\n",
    "    def __repr__(self): \n",
    "        \"\"\"转化为解释器可读取的形式 \"\"\"\n",
    "        \"\"\" x.__repr__() <==> repr(x) \"\"\"\n",
    "        pass\n",
    "\n",
    "    def __str__(self): \n",
    "        \"\"\"转换为人阅读的形式，如果没有适于人阅读的解释形式的话，则返回解释器课阅读的形式\"\"\"\n",
    "        \"\"\" x.__str__() <==> str(x) \"\"\"\n",
    "        pass\n",
    "\n",
    "    def __rfloordiv__(self, y): \n",
    "        \"\"\" x.__rfloordiv__(y) <==> y//x \"\"\"\n",
    "        pass\n",
    "\n",
    "    def __rlshift__(self, y): \n",
    "        \"\"\" x.__rlshift__(y) <==> y<<x \"\"\"\n",
    "        pass\n",
    "\n",
    "    def __rmod__(self, y): \n",
    "        \"\"\" x.__rmod__(y) <==> y%x \"\"\"\n",
    "        pass\n",
    "\n",
    "    def __rmul__(self, y): \n",
    "        \"\"\" x.__rmul__(y) <==> y*x \"\"\"\n",
    "        pass\n",
    "\n",
    "    def __ror__(self, y): \n",
    "        \"\"\" x.__ror__(y) <==> y|x \"\"\"\n",
    "        pass\n",
    "\n",
    "    def __rpow__(self, x, z=None): \n",
    "        \"\"\" y.__rpow__(x[, z]) <==> pow(x, y[, z]) \"\"\"\n",
    "        pass\n",
    "\n",
    "    def __rrshift__(self, y): \n",
    "        \"\"\" x.__rrshift__(y) <==> y>>x \"\"\"\n",
    "        pass\n",
    "\n",
    "    def __rshift__(self, y): \n",
    "        \"\"\" x.__rshift__(y) <==> x>>y \"\"\"\n",
    "        pass\n",
    "\n",
    "    def __rsub__(self, y): \n",
    "        \"\"\" x.__rsub__(y) <==> y-x \"\"\"\n",
    "        pass\n",
    "\n",
    "    def __rtruediv__(self, y): \n",
    "        \"\"\" x.__rtruediv__(y) <==> y/x \"\"\"\n",
    "        pass\n",
    "\n",
    "    def __rxor__(self, y): \n",
    "        \"\"\" x.__rxor__(y) <==> y^x \"\"\"\n",
    "        pass\n",
    "\n",
    "    def __sub__(self, y): \n",
    "        \"\"\" x.__sub__(y) <==> x-y \"\"\"\n",
    "        pass\n",
    "\n",
    "    def __truediv__(self, y): \n",
    "        \"\"\" x.__truediv__(y) <==> x/y \"\"\"\n",
    "        pass\n",
    "\n",
    "    def __trunc__(self, *args, **kwargs): \n",
    "        \"\"\" 返回数值被截取为整形的值，在整形中无意义 \"\"\"\n",
    "        pass\n",
    "\n",
    "    def __xor__(self, y): \n",
    "        \"\"\" x.__xor__(y) <==> x^y \"\"\"\n",
    "        pass\n",
    "\n",
    "    denominator = property(lambda self: object(), lambda self, v: None, lambda self: None)  # default\n",
    "    \"\"\" 分母 = 1 \"\"\"\n",
    "    \"\"\"the denominator of a rational number in lowest terms\"\"\"\n",
    "\n",
    "    imag = property(lambda self: object(), lambda self, v: None, lambda self: None)  # default\n",
    "    \"\"\" 虚数，无意义 \"\"\"\n",
    "    \"\"\"the imaginary part of a complex number\"\"\"\n",
    "\n",
    "    numerator = property(lambda self: object(), lambda self, v: None, lambda self: None)  # default\n",
    "    \"\"\" 分子 = 数字大小 \"\"\"\n",
    "    \"\"\"the numerator of a rational number in lowest terms\"\"\"\n",
    "\n",
    "    real = property(lambda self: object(), lambda self, v: None, lambda self: None)  # default\n",
    "    \"\"\" 实属，无意义 \"\"\"\n",
    "    \"\"\"the real part of a complex number\"\"\"\n",
    "\n",
    "int\n",
    "\n",
    "int"
   ]
  },
  {
   "cell_type": "code",
   "execution_count": 66,
   "metadata": {},
   "outputs": [
    {
     "name": "stdout",
     "output_type": "stream",
     "text": [
      "begin\n",
      "end\n",
      "85\n"
     ]
    }
   ],
   "source": [
    "def logger(fn):\n",
    "    def wrapper(*args,**kwargs):\n",
    "        print('begin')\n",
    "        x = fn(*args,**kwargs)\n",
    "        print('end')\n",
    "        return x\n",
    "    return wrapper\n",
    "@logger # 等价于add = logger(add)\n",
    "#a=1  装饰器必须与下面的函数相连\n",
    "def add(x,y):\n",
    "    return x + y\n",
    "print(add(45,40))"
   ]
  },
  {
   "cell_type": "code",
   "execution_count": 73,
   "metadata": {},
   "outputs": [
    {
     "name": "stdout",
     "output_type": "stream",
     "text": [
      "5\n",
      "time used: 0.00020526209846138954\n",
      "None\n"
     ]
    },
    {
     "name": "stderr",
     "output_type": "stream",
     "text": [
      "c:\\users\\zhanj\\appdata\\local\\programs\\python\\python37-32\\lib\\site-packages\\ipykernel_launcher.py:9: DeprecationWarning: time.clock has been deprecated in Python 3.3 and will be removed from Python 3.8: use time.perf_counter or time.process_time instead\n",
      "  if __name__ == '__main__':\n",
      "c:\\users\\zhanj\\appdata\\local\\programs\\python\\python37-32\\lib\\site-packages\\ipykernel_launcher.py:11: DeprecationWarning: time.clock has been deprecated in Python 3.3 and will be removed from Python 3.8: use time.perf_counter or time.process_time instead\n",
      "  # This is added back by InteractiveShellApp.init_path()\n"
     ]
    }
   ],
   "source": [
    "import time\n",
    "\n",
    "def sum1():\n",
    "    sum = 1+ 4\n",
    "    print (sum)\n",
    "\n",
    "def timeit(func):\n",
    "    def test():\n",
    "        start = time.clock()\n",
    "        func()\n",
    "        end =time.clock()\n",
    "        print(\"time used:\", end - start)\n",
    "    return test\n",
    "\n",
    "sum1 = timeit(sum1)()\n",
    "print(sum1)"
   ]
  },
  {
   "cell_type": "code",
   "execution_count": 23,
   "metadata": {},
   "outputs": [
    {
     "name": "stdout",
     "output_type": "stream",
     "text": [
      "456\n"
     ]
    }
   ],
   "source": [
    "def copy_pro(src):\n",
    "    def xy(dst):\n",
    "        dst.__name__=src.__name__\n",
    "        dst.__doc__=src.__doc__        \n",
    "        return dst\n",
    "    return xy\n",
    "def logger(fn):    \n",
    "    @copy_pro(fn)  # _logger= copy_pro(fn)(_logger)\n",
    "    def _logger():\n",
    "        \"1235\"                     \n",
    "    return _logger\n",
    "@logger # add= logger(add) \n",
    "def add(x,y):\n",
    "    \"456\"\n",
    "    return x+y\n",
    "print(add.__doc__)\n",
    "\n",
    "#add=logger(add) ==>  _logger\n"
   ]
  },
  {
   "cell_type": "code",
   "execution_count": null,
   "metadata": {},
   "outputs": [],
   "source": [
    "logger(duration,func)(fn)(x,y,z)\n",
    "\n",
    "ret =fn(x,y,z)\n",
    "func(fn.name, duration)\n"
   ]
  },
  {
   "cell_type": "code",
   "execution_count": 39,
   "metadata": {},
   "outputs": [
    {
     "name": "stdout",
     "output_type": "stream",
     "text": [
      "x de zhi shi 10\n",
      "11\n",
      "11\n"
     ]
    }
   ],
   "source": [
    "def foo():\n",
    "    x=10\n",
    "    def kk():\n",
    "        nonlocal x\n",
    "        x=x+1\n",
    "        print(x)\n",
    "    print(\"x de zhi shi {}\".format(x))\n",
    "    y=kk()\n",
    "    print(x)\n",
    "    \n",
    "#里面的函数可以修改外面的变量值\n",
    "foo()\n",
    "    "
   ]
  },
  {
   "cell_type": "code",
   "execution_count": 1,
   "metadata": {},
   "outputs": [
    {
     "name": "stdout",
     "output_type": "stream",
     "text": [
      "[1, 1, 1, 1, 1]\n"
     ]
    }
   ],
   "source": [
    "lst=[1]\n",
    "lst1=lst*5\n",
    "print(lst1)"
   ]
  },
  {
   "cell_type": "code",
   "execution_count": 8,
   "metadata": {},
   "outputs": [
    {
     "name": "stdout",
     "output_type": "stream",
     "text": [
      "0:11\n",
      "1:65\n",
      "2:35\n",
      "[11, 65, 35]\n"
     ]
    }
   ],
   "source": [
    "nums=[]\n",
    "for i in range(3):\n",
    "    nums.append(int(input('{}:'.format(i))))\n",
    "print(nums)"
   ]
  },
  {
   "cell_type": "code",
   "execution_count": null,
   "metadata": {},
   "outputs": [],
   "source": []
  }
 ],
 "metadata": {
  "kernelspec": {
   "display_name": "Python 3",
   "language": "python",
   "name": "python3"
  },
  "language_info": {
   "codemirror_mode": {
    "name": "ipython",
    "version": 3
   },
   "file_extension": ".py",
   "mimetype": "text/x-python",
   "name": "python",
   "nbconvert_exporter": "python",
   "pygments_lexer": "ipython3",
   "version": "3.7.3"
  }
 },
 "nbformat": 4,
 "nbformat_minor": 2
}
