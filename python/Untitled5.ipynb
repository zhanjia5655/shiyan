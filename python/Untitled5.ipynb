{
 "cells": [
  {
   "cell_type": "code",
   "execution_count": 14,
   "metadata": {},
   "outputs": [
    {
     "name": "stdout",
     "output_type": "stream",
     "text": [
      "11111111111\n",
      "11111111111\n",
      "---------------\n",
      "<__main__.Typed object at 0x04B90C30> <__main__.Person object at 0x0460F030> tom\n",
      "<__main__.Typed object at 0x0460FED0> <__main__.Person object at 0x0460F030> 20\n",
      "{'name': 'tom', 'age': 20}\n",
      "----------------\n",
      "<__main__.Typed object at 0x04B90C30> <__main__.Person object at 0x0460F030> <class '__main__.Person'>\n"
     ]
    },
    {
     "data": {
      "text/plain": [
       "'tom'"
      ]
     },
     "execution_count": 14,
     "metadata": {},
     "output_type": "execute_result"
    }
   ],
   "source": [
    "class Typed:\n",
    "    def __init__(self,name,type):\n",
    "        self.name=name    \n",
    "        self.type=type\n",
    "        print(\"11111111111\")\n",
    "    def __get__(self,instance,owner):\n",
    "        print(self,instance,owner)\n",
    "        if instance is not None:\n",
    "            return instance.__dict__[self.name]\n",
    "        return self\n",
    "    def __set__(self,instance,value):\n",
    "        print(self,instance,value)\n",
    "        if not isinstance(value,self.type):\n",
    "            raise TypeError(value)\n",
    "        instance.__dict__[self.name]=value\n",
    "\n",
    "class Person:\n",
    "    name=Typed(\"name\",str)\n",
    "    age=Typed(\"age\",int)\n",
    "    def __init__(self,name:str,age:int):\n",
    "        self.name=name\n",
    "        self.age=age\n",
    "\n",
    "print(\"---------------\")\n",
    "p=Person(\"tom\",20)\n",
    "print(p.__dict__)\n",
    "print(\"----------------\")\n",
    "p.name"
   ]
  },
  {
   "cell_type": "code",
   "execution_count": null,
   "metadata": {},
   "outputs": [],
   "source": []
  }
 ],
 "metadata": {
  "kernelspec": {
   "display_name": "Python 3",
   "language": "python",
   "name": "python3"
  },
  "language_info": {
   "codemirror_mode": {
    "name": "ipython",
    "version": 3
   },
   "file_extension": ".py",
   "mimetype": "text/x-python",
   "name": "python",
   "nbconvert_exporter": "python",
   "pygments_lexer": "ipython3",
   "version": "3.7.3"
  }
 },
 "nbformat": 4,
 "nbformat_minor": 2
}
