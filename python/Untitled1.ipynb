{
 "cells": [
  {
   "cell_type": "code",
   "execution_count": 6,
   "metadata": {},
   "outputs": [],
   "source": [
    "f=open('test4','w')\n",
    "f.write('hello')\n",
    "f.close()"
   ]
  },
  {
   "cell_type": "code",
   "execution_count": 8,
   "metadata": {},
   "outputs": [
    {
     "name": "stdout",
     "output_type": "stream",
     "text": [
      "hello\n"
     ]
    }
   ],
   "source": [
    "f=open('test4','r')\n",
    "print(f.read())\n",
    "f.close()"
   ]
  },
  {
   "cell_type": "code",
   "execution_count": 41,
   "metadata": {},
   "outputs": [
    {
     "name": "stdout",
     "output_type": "stream",
     "text": [
      "125\n",
      "hellohellohellohellohellohello\n"
     ]
    },
    {
     "ename": "UnsupportedOperation",
     "evalue": "can't do nonzero cur-relative seeks",
     "output_type": "error",
     "traceback": [
      "\u001b[1;31m---------------------------------------------------------------------------\u001b[0m",
      "\u001b[1;31mUnsupportedOperation\u001b[0m                      Traceback (most recent call last)",
      "\u001b[1;32m<ipython-input-41-f3ff62f7075e>\u001b[0m in \u001b[0;36m<module>\u001b[1;34m\u001b[0m\n\u001b[0;32m      4\u001b[0m \u001b[0mf\u001b[0m\u001b[1;33m.\u001b[0m\u001b[0mseek\u001b[0m\u001b[1;33m(\u001b[0m\u001b[1;36m95\u001b[0m\u001b[1;33m,\u001b[0m\u001b[1;36m0\u001b[0m\u001b[1;33m)\u001b[0m\u001b[1;33m\u001b[0m\u001b[1;33m\u001b[0m\u001b[0m\n\u001b[0;32m      5\u001b[0m \u001b[0mprint\u001b[0m\u001b[1;33m(\u001b[0m\u001b[0mf\u001b[0m\u001b[1;33m.\u001b[0m\u001b[0mread\u001b[0m\u001b[1;33m(\u001b[0m\u001b[1;33m)\u001b[0m\u001b[1;33m)\u001b[0m\u001b[1;33m\u001b[0m\u001b[1;33m\u001b[0m\u001b[0m\n\u001b[1;32m----> 6\u001b[1;33m \u001b[0mf\u001b[0m\u001b[1;33m.\u001b[0m\u001b[0mseek\u001b[0m\u001b[1;33m(\u001b[0m\u001b[1;36m5\u001b[0m\u001b[1;33m,\u001b[0m\u001b[1;36m1\u001b[0m\u001b[1;33m)\u001b[0m\u001b[1;33m\u001b[0m\u001b[1;33m\u001b[0m\u001b[0m\n\u001b[0m\u001b[0;32m      7\u001b[0m \u001b[0mprint\u001b[0m\u001b[1;33m(\u001b[0m\u001b[0mf\u001b[0m\u001b[1;33m.\u001b[0m\u001b[0mread\u001b[0m\u001b[1;33m(\u001b[0m\u001b[1;33m)\u001b[0m\u001b[1;33m)\u001b[0m\u001b[1;33m\u001b[0m\u001b[1;33m\u001b[0m\u001b[0m\n\u001b[0;32m      8\u001b[0m \u001b[0mf\u001b[0m\u001b[1;33m.\u001b[0m\u001b[0mclose\u001b[0m\u001b[1;33m(\u001b[0m\u001b[1;33m)\u001b[0m\u001b[1;33m\u001b[0m\u001b[1;33m\u001b[0m\u001b[0m\n",
      "\u001b[1;31mUnsupportedOperation\u001b[0m: can't do nonzero cur-relative seeks"
     ]
    }
   ],
   "source": [
    "f=open('test3','a+')\n",
    "f.write('hello')\n",
    "print(f.tell())\n",
    "f.seek(95,0)\n",
    "print(f.read())\n",
    "f.seek(5,1)\n",
    "print(f.read())\n",
    "f.close()"
   ]
  },
  {
   "cell_type": "code",
   "execution_count": 33,
   "metadata": {},
   "outputs": [
    {
     "name": "stdout",
     "output_type": "stream",
     "text": [
      "hellohellohellohellohellohellohellohellohellohellohellohellohellohellohellohellohello\n"
     ]
    }
   ],
   "source": [
    "f=open('test3','r')\n",
    "print(f.read())\n",
    "f.close()"
   ]
  },
  {
   "cell_type": "code",
   "execution_count": 58,
   "metadata": {},
   "outputs": [
    {
     "name": "stdout",
     "output_type": "stream",
     "text": [
      "0\n",
      "abcdefghijklmnopqrstuvwxyz\n",
      "0\n",
      "abcdefghijklmnopqrstuvwxyz\n",
      "2\n",
      "cdefghijklmnopqrstuvwxyz\n"
     ]
    }
   ],
   "source": [
    "f=open('test3','r+')\n",
    "print(f.tell())\n",
    "print(f.read())\n",
    "print(f.seek(0))\n",
    "print(f.read())\n",
    "print(f.seek(2,0))#只能是0，字符只能从开始开始定位\n",
    "print(f.read())\n",
    "f.close()"
   ]
  },
  {
   "cell_type": "code",
   "execution_count": 61,
   "metadata": {},
   "outputs": [
    {
     "name": "stdout",
     "output_type": "stream",
     "text": [
      "0\n",
      "b'abcdefghijklmnopqrstuvwxyz'\n",
      "2\n",
      "4\n",
      "b'efghijklmnopqrstuvwxyz'\n"
     ]
    }
   ],
   "source": [
    "f=open('test3','rb+')\n",
    "print(f.tell())\n",
    "print(f.read())\n",
    "print(f.seek(2))#第二个字符开始\n",
    "\n",
    "print(f.seek(2,1))#可以是1 ，便宜位可以为负数  但不能越界，正数可以超界\n",
    "print(f.read())\n",
    "f.close()"
   ]
  },
  {
   "cell_type": "code",
   "execution_count": 76,
   "metadata": {},
   "outputs": [
    {
     "ename": "SyntaxError",
     "evalue": "EOL while scanning string literal (<ipython-input-76-b33e6f523d47>, line 6)",
     "output_type": "error",
     "traceback": [
      "\u001b[1;36m  File \u001b[1;32m\"<ipython-input-76-b33e6f523d47>\"\u001b[1;36m, line \u001b[1;32m6\u001b[0m\n\u001b[1;33m    f.write('magedu.com.encode())\u001b[0m\n\u001b[1;37m                                 ^\u001b[0m\n\u001b[1;31mSyntaxError\u001b[0m\u001b[1;31m:\u001b[0m EOL while scanning string literal\n"
     ]
    }
   ],
   "source": [
    "import io\n",
    "f=open('test3','w+b')\n",
    "print(io.DEFAULT_BUFFER_SIZE)\n",
    "f.write(\"magedu.com\".encode(enconding=\"cp936\"))\n",
    "f.seek(0)\n",
    "f.write('magedu.com.encode())\n",
    "f.flush()\n",
    "f.close()"
   ]
  },
  {
   "cell_type": "code",
   "execution_count": 81,
   "metadata": {},
   "outputs": [],
   "source": [
    "#buffering=1\n",
    "f=open('text4','w+',1)\n",
    "f.write('mag')\n",
    "f.write('magedu'*4)\n",
    "f.write('\\n')\n",
    "f.write('hello\\npython')\n",
    "f.close()"
   ]
  },
  {
   "cell_type": "code",
   "execution_count": 86,
   "metadata": {},
   "outputs": [],
   "source": [
    "#buffering>1\n",
    "f=open('text5','w+',15)\n",
    "f.write('mag')\n",
    "f.write('magedu'*4)\n",
    "f.write('\\n')\n",
    "f.write('hello\\npython')\n",
    "f.write('a'*(io.DEFAULT_BUFFER_SIZE -20))\n",
    "f.write('\\nhello\\npython')\n",
    "f.close()"
   ]
  },
  {
   "cell_type": "code",
   "execution_count": 94,
   "metadata": {},
   "outputs": [
    {
     "name": "stdout",
     "output_type": "stream",
     "text": [
      "设备序列号 \t0126011903119999\n",
      "引擎版本 \tV0700R0709B20180709\n",
      "\n",
      "ip 地址：192.168.7.4/24\n",
      "   网关：192.168.7.2\n",
      "\n",
      "\thttps://192.168.7.4\n",
      "  账号：adm\n",
      "  密码：venus70\n",
      "\n",
      " 授权申请账号\n",
      "   aotuo123\n",
      "   Aotuo@123\n",
      "\n",
      "启明星辰web应用防护事件库升级下载地址  https://www.venustech.com.cn/article/type/1/145.html\n",
      "\n",
      "\n",
      "{CRM:web.test.fail[CRMNJ web监控].last(#9)}<>0\n",
      "\n",
      "{CRM:web.test.fail[CRMNJ web监控].max(#9)}<>0\n",
      "\n",
      "\n"
     ]
    }
   ],
   "source": [
    "f=open('123.txt','r+')\n",
    "print(f.read())\n",
    "f.close()"
   ]
  },
  {
   "cell_type": "code",
   "execution_count": 101,
   "metadata": {},
   "outputs": [
    {
     "name": "stdout",
     "output_type": "stream",
     "text": [
      "设备序列号 \t0126011903119999\n",
      "\n",
      "引擎版本 \tV0700R0709B20180709\n",
      "\n",
      "\n",
      "\n"
     ]
    }
   ],
   "source": [
    "f=open('123.txt','r+')\n",
    "i=0\n",
    "\n",
    "for line in f:\n",
    "    print(line)\n",
    "    i+=1\n",
    "    if i>=3:\n",
    "        break\n",
    "f.close()"
   ]
  },
  {
   "cell_type": "code",
   "execution_count": 107,
   "metadata": {},
   "outputs": [
    {
     "name": "stdout",
     "output_type": "stream",
     "text": [
      "设备序列号 \t0126011903119999\n",
      "引擎版本 \tV0700R0709B20180709\n",
      "\n",
      "ip 地址：192.168.7.4/24\n",
      "   网关：192.168.7.2\n",
      "\n",
      "\thttps://192.168.7.4\n",
      "  账号：adm\n",
      "  密码：venus70\n",
      "\n",
      " 授权申请账号\n",
      "   aotuo123\n",
      "   Aotuo@123\n",
      "\n",
      "启明星辰web应用防护事件库升级下载地址  https://www.venustech.com.cn/article/type/1/145.html\n",
      "\n",
      "\n",
      "{CRM:web.test.fail[CRMNJ web监控].last(#9)}<>0\n",
      "\n",
      "{CRM:web.test.fail[CRMNJ web监控].max(#9)}<>0\n",
      "\n",
      "abc123\n",
      "magedua bc123\n",
      "mageduabc123\n",
      "mageduabc123\n",
      "magedu\n",
      "abc123\n",
      "magedu\n",
      "a bc123\n",
      "magedu\n",
      "\n"
     ]
    }
   ],
   "source": [
    "f=open('123.txt','a+')\n",
    "lines=['a bc','123\\n','magedu\\n']\n",
    "f.writelines(lines)\n",
    "f.seek(0)\n",
    "print(f.read())\n",
    "f.close()"
   ]
  },
  {
   "cell_type": "code",
   "execution_count": 108,
   "metadata": {},
   "outputs": [
    {
     "ename": "UnsupportedOperation",
     "evalue": "not writable",
     "output_type": "error",
     "traceback": [
      "\u001b[1;31m---------------------------------------------------------------------------\u001b[0m",
      "\u001b[1;31mUnsupportedOperation\u001b[0m                      Traceback (most recent call last)",
      "\u001b[1;32m<ipython-input-108-5a7b799692b6>\u001b[0m in \u001b[0;36m<module>\u001b[1;34m\u001b[0m\n\u001b[0;32m      1\u001b[0m \u001b[1;32mwith\u001b[0m \u001b[0mopen\u001b[0m\u001b[1;33m(\u001b[0m\u001b[1;34m'123.txt'\u001b[0m\u001b[1;33m)\u001b[0m \u001b[1;32mas\u001b[0m \u001b[0mf\u001b[0m\u001b[1;33m:\u001b[0m\u001b[1;33m\u001b[0m\u001b[1;33m\u001b[0m\u001b[0m\n\u001b[1;32m----> 2\u001b[1;33m     \u001b[0mf\u001b[0m\u001b[1;33m.\u001b[0m\u001b[0mwrite\u001b[0m\u001b[1;33m(\u001b[0m\u001b[1;34m'abc'\u001b[0m\u001b[1;33m)\u001b[0m\u001b[1;33m\u001b[0m\u001b[1;33m\u001b[0m\u001b[0m\n\u001b[0m\u001b[0;32m      3\u001b[0m \u001b[0mf\u001b[0m\u001b[1;33m.\u001b[0m\u001b[0mclosed\u001b[0m\u001b[1;33m\u001b[0m\u001b[1;33m\u001b[0m\u001b[0m\n",
      "\u001b[1;31mUnsupportedOperation\u001b[0m: not writable"
     ]
    }
   ],
   "source": [
    "with open('123.txt') as f:\n",
    "    f.write('abc')\n"
   ]
  },
  {
   "cell_type": "code",
   "execution_count": 109,
   "metadata": {},
   "outputs": [
    {
     "data": {
      "text/plain": [
       "True"
      ]
     },
     "execution_count": 109,
     "metadata": {},
     "output_type": "execute_result"
    }
   ],
   "source": [
    "f.closed"
   ]
  },
  {
   "cell_type": "code",
   "execution_count": 112,
   "metadata": {},
   "outputs": [
    {
     "data": {
      "text/plain": [
       "True"
      ]
     },
     "execution_count": 112,
     "metadata": {},
     "output_type": "execute_result"
    }
   ],
   "source": [
    "with open('123.txt') as f:\n",
    "    f.read()\n",
    "f.closed"
   ]
  },
  {
   "cell_type": "code",
   "execution_count": null,
   "metadata": {},
   "outputs": [],
   "source": []
  }
 ],
 "metadata": {
  "kernelspec": {
   "display_name": "Python 3",
   "language": "python",
   "name": "python3"
  },
  "language_info": {
   "codemirror_mode": {
    "name": "ipython",
    "version": 3
   },
   "file_extension": ".py",
   "mimetype": "text/x-python",
   "name": "python",
   "nbconvert_exporter": "python",
   "pygments_lexer": "ipython3",
   "version": "3.7.3"
  }
 },
 "nbformat": 4,
 "nbformat_minor": 2
}
