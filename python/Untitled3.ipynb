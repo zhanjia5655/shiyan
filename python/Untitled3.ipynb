{
 "cells": [
  {
   "cell_type": "code",
   "execution_count": null,
   "metadata": {},
   "outputs": [],
   "source": [
    "#!/usr/bin/env python\n",
    "# -*- coding:utf-8 -*-\n",
    "# _author_soloLi\n",
    "# python2.X与python3.X区别:    python2.X raw_input = python3.X input\n",
    "# 提示用户输入姓名、年龄、工作、工资并以信息列表的形式打印出\n",
    "\n",
    " name = input(\"Please input your name:\")\n",
    " age = int(input(\"Please input your age:\"))  #str强制转换为int\n",
    " job = input(\"Please input your job:\")\n",
    " salary = input(\"Please input your salary:\")\n",
    "\n",
    " info1 = '''\n",
    " ------------  Info of %s  ---------\n",
    " Name:%s\n",
    " Age:%d\n",
    " Job：%s\n",
    " Salary：%s\n",
    " ''' %(name,name,age,job,salary)     #%s检测数据类型为字符串，%d检测数据类型为整数,%f检测数据类型为浮点数 强制\n",
    " print(info1)\n",
    "\n",
    "# info2 = '''\n",
    "# ------------  Info of {_Name}  ---------\n",
    "# Name:{_Name}\n",
    "# Age:{_Age}\n",
    "# Job：{_Job}\n",
    "# Salary：{_Salary}\n",
    "# ''' .format(_Name=name,\n",
    "#             _Age=age,\n",
    "#             _Job=job,\n",
    "#             _Salary=salary)\n",
    "# print(info2)\n",
    "\n",
    "# info3 = '''\n",
    "# ------------  Info of {0}  ---------\n",
    "# Name:{0}\n",
    "# Age:{1}\n",
    "# Job：{2}\n",
    "# Salary：{3}\n",
    "# ''' .format(name,age,job,salary)\n",
    "# print(info3)"
   ]
  },
  {
   "cell_type": "code",
   "execution_count": 7,
   "metadata": {},
   "outputs": [
    {
     "name": "stdout",
     "output_type": "stream",
     "text": [
      "Please input your name:zj\n",
      "Please input your age:33\n",
      "Please input your job:it\n",
      "Please input your salary:no\n",
      "\n",
      "------------  Info of zj  ---------\n",
      "Name:zj\n",
      "Age:33\n",
      "Job：it\n",
      "Salary：no\n",
      "\n"
     ]
    }
   ],
   "source": [
    " name = input(\"Please input your name:\")\n",
    " age = int(input(\"Please input your age:\"))  #str强制转换为int\n",
    " job = input(\"Please input your job:\")\n",
    " salary = input(\"Please input your salary:\")\n",
    "\n",
    " info1 = '''\n",
    " ------------  Info of %s  ---------\n",
    " Name:%s\n",
    " Age:%d\n",
    " Job：%s\n",
    " Salary：%s\n",
    " ''' %(name,name,age,job,salary)     #%s检测数据类型为字符串，%d检测数据类型为整数,%f检测数据类型为浮点数 强制\n",
    " print(info1)"
   ]
  },
  {
   "cell_type": "code",
   "execution_count": 6,
   "metadata": {},
   "outputs": [
    {
     "name": "stdout",
     "output_type": "stream",
     "text": [
      "zj\n"
     ]
    }
   ],
   "source": [
    "print(name)\n"
   ]
  },
  {
   "cell_type": "code",
   "execution_count": 10,
   "metadata": {},
   "outputs": [
    {
     "name": "stdout",
     "output_type": "stream",
     "text": [
      "Please input your name:zj\n",
      "Please input your age:33\n",
      "Please input your job:it\n",
      "Please input your salary:no\n",
      "姓名：zj,年龄33,工作:it，no\n"
     ]
    }
   ],
   "source": [
    " name = input(\"Please input your name:\")\n",
    " age = int(input(\"Please input your age:\"))  #str强制转换为int\n",
    " job = input(\"Please input your job:\")\n",
    " salary = input(\"Please input your salary:\")\n",
    "\n",
    " info1 = '姓名：{},年龄{},工作:{}，{}'.format(name,age,job,salary)     #%s检测数据类型为字符串，%d检测数据类型为整数,%f检测数据类型为浮点数 强制\n",
    " print(info1)"
   ]
  },
  {
   "cell_type": "code",
   "execution_count": null,
   "metadata": {},
   "outputs": [],
   "source": []
  }
 ],
 "metadata": {
  "kernelspec": {
   "display_name": "Python 3",
   "language": "python",
   "name": "python3"
  },
  "language_info": {
   "codemirror_mode": {
    "name": "ipython",
    "version": 3
   },
   "file_extension": ".py",
   "mimetype": "text/x-python",
   "name": "python",
   "nbconvert_exporter": "python",
   "pygments_lexer": "ipython3",
   "version": "3.7.3"
  }
 },
 "nbformat": 4,
 "nbformat_minor": 2
}
