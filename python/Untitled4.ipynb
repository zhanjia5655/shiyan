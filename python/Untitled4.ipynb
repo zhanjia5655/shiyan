{
 "cells": [
  {
   "cell_type": "code",
   "execution_count": 8,
   "metadata": {},
   "outputs": [
    {
     "name": "stdout",
     "output_type": "stream",
     "text": [
      "3\n",
      "-3 -3\n"
     ]
    }
   ],
   "source": [
    "class A:\n",
    "    def __init__(self,name,age=19):\n",
    "        self.name=name\n",
    "        self.age=age\n",
    "    def __sub__(self,other):\n",
    "        #return (A(self.age -other.age).name,A(self.age -other.age).age)\n",
    "        return self.age -other.age\n",
    "tom=A('tom')\n",
    "jerry=A('jerry',16)\n",
    "print(tom-jerry)\n",
    "print(jerry-tom ,jerry.__sub__(tom))"
   ]
  },
  {
   "cell_type": "code",
   "execution_count": null,
   "metadata": {},
   "outputs": [],
   "source": []
  }
 ],
 "metadata": {
  "kernelspec": {
   "display_name": "Python 3",
   "language": "python",
   "name": "python3"
  },
  "language_info": {
   "codemirror_mode": {
    "name": "ipython",
    "version": 3
   },
   "file_extension": ".py",
   "mimetype": "text/x-python",
   "name": "python",
   "nbconvert_exporter": "python",
   "pygments_lexer": "ipython3",
   "version": "3.7.3"
  }
 },
 "nbformat": 4,
 "nbformat_minor": 2
}
